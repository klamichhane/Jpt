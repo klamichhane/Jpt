{
 "cells": [
  {
   "cell_type": "markdown",
   "id": "e7f3f026-0f19-47e7-b093-bc7f666f11ff",
   "metadata": {},
   "source": [
    "# Data Science Tools and Ecosystem"
   ]
  },
  {
   "cell_type": "markdown",
   "id": "a546d954-ddfb-41cd-9a3a-4b01b644e26d",
   "metadata": {},
   "source": [
    "In this notebook, Data Science Tools and Ecosystem are summarized."
   ]
  },
  {
   "cell_type": "markdown",
   "id": "2aa817c6-d920-4216-b32e-b32f59af7f4b",
   "metadata": {},
   "source": [
    "**Objectives:**\n",
    "* List popular languages for Data Science\n",
    "* Commonly used libraries in Data Science\n",
    "* Open source tools used in Data Science"
   ]
  },
  {
   "cell_type": "markdown",
   "id": "c60b7c21-21c2-4a3a-a1ba-62576a540fd1",
   "metadata": {},
   "source": [
    "Some of the popular languages that Data Scientists use are:\n",
    "1. Python\n",
    "2. R\n",
    "3. Julia"
   ]
  },
  {
   "cell_type": "markdown",
   "id": "cbb74319-36e2-4824-a9af-ba7790542423",
   "metadata": {},
   "source": [
    "Some of the commonly used libraries by Data Scientists include:\n",
    "1. pandas\n",
    "2. numpy\n",
    "3. Matplotlib\n",
    "4. SciKit-Learn"
   ]
  },
  {
   "cell_type": "markdown",
   "id": "2526b07b-afb4-4243-9523-e0e7f3cabfda",
   "metadata": {},
   "source": [
    "|Data Science Tools|\n",
    "|-------------   |\n",
    "|Matplotlib|\n",
    "|Tensorflow|\n",
    "|SQL|"
   ]
  },
  {
   "cell_type": "markdown",
   "id": "223606a1-d560-428b-8331-13e6e966c654",
   "metadata": {},
   "source": [
    "### Below are a few examples of evaluating arithmetic expressions in Python"
   ]
  },
  {
   "cell_type": "code",
   "execution_count": 3,
   "id": "7cb97c38-922f-496e-9950-b55d4d2b8ce0",
   "metadata": {},
   "outputs": [
    {
     "data": {
      "text/plain": [
       "17"
      ]
     },
     "execution_count": 3,
     "metadata": {},
     "output_type": "execute_result"
    }
   ],
   "source": [
    "#This is a simple arithmetic expression to multiply then add integers.\n",
    "\n",
    "(3*4)+5"
   ]
  },
  {
   "cell_type": "code",
   "execution_count": 4,
   "id": "4703e4f7-93c9-4420-833f-6b0bb22e54dc",
   "metadata": {},
   "outputs": [
    {
     "data": {
      "text/plain": [
       "3.3333333333333335"
      ]
     },
     "execution_count": 4,
     "metadata": {},
     "output_type": "execute_result"
    }
   ],
   "source": [
    "# This will convert 200 minutes to hours by dividing by 60\n",
    "200/60"
   ]
  },
  {
   "cell_type": "markdown",
   "id": "5cc08501-84d2-447a-8c7e-0e07f66e97b7",
   "metadata": {},
   "source": [
    "## Author\n",
    "Kamal "
   ]
  }
 ],
 "metadata": {
  "kernelspec": {
   "display_name": "Python 3 (ipykernel)",
   "language": "python",
   "name": "python3"
  },
  "language_info": {
   "codemirror_mode": {
    "name": "ipython",
    "version": 3
   },
   "file_extension": ".py",
   "mimetype": "text/x-python",
   "name": "python",
   "nbconvert_exporter": "python",
   "pygments_lexer": "ipython3",
   "version": "3.9.18"
  }
 },
 "nbformat": 4,
 "nbformat_minor": 5
}
